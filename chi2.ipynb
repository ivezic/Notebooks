{
 "cells": [
  {
   "cell_type": "code",
   "execution_count": 50,
   "id": "e5dc8b65",
   "metadata": {},
   "outputs": [],
   "source": [
    "import numpy as np \n",
    "from scipy.stats import norm"
   ]
  },
  {
   "cell_type": "code",
   "execution_count": 91,
   "id": "cb2a3ff4",
   "metadata": {},
   "outputs": [],
   "source": [
    "def sigmaG(x):\n",
    "    # robust replacement for standard deviation\n",
    "    return 0.7413*(np.quantile(x, .75, interpolation='midpoint')-np.quantile(x, .25, interpolation='midpoint'))\n",
    "\n",
    "def getChi2(x, sig, m, Nparam):\n",
    "    # given data x, uncertainty sig, model m, and the number of parameters\n",
    "    # for that model, compute: \n",
    "    # 1) chi2dof: standard chi2 per degree of freedom, using st.dev. of (x-m)/sig\n",
    "    # 2) chi2dofR: robust chi2 per degree of freedom (using interquartile range)\n",
    "    # 3) meddev: median deviation of abs((x-m)/sig) \n",
    "    # 4) maxdev: maximum deviation of abs((x-m)/sig)  \n",
    "    # and return (chi2dof, chi2dofR, meddev, maxdev) \n",
    "    z = (x-m)/sig\n",
    "    Ndata = len(z)\n",
    "    chi2  = (Ndata-1) * np.std(z)  # using st.dev for symmetry with chi2R   \n",
    "    chi2R = (Ndata-1) * sigmaG(z)  # but could also use chi2 = sum(z^2) instead\n",
    "    dof = Ndata - Nparam\n",
    "    return chi2/dof, chi2R/dof, np.median(np.abs(z)), np.max(np.abs(z)) "
   ]
  },
  {
   "cell_type": "code",
   "execution_count": 84,
   "id": "84a71f09",
   "metadata": {},
   "outputs": [],
   "source": [
    "# generate a sample for testing (1000 points drawn from a normal distribution)\n",
    "model=111\n",
    "error=33\n",
    "sampleSize = 1000\n",
    "x = norm(model, error).rvs(sampleSize) "
   ]
  },
  {
   "cell_type": "code",
   "execution_count": 85,
   "id": "ef868355",
   "metadata": {},
   "outputs": [],
   "source": [
    "m = 0*x + np.mean(x)   # model is simply the sample mean (and 0*x is a trick to get the same vector length)\n",
    "sig = 0*x + error      # homoscedastic errors \n",
    "Nparam = 1             # because model has only one parameter \n",
    "chi2dof, chi2dofR, meddev, maxdev = getChi2(x, sig, m, Nparam)"
   ]
  },
  {
   "cell_type": "code",
   "execution_count": 86,
   "id": "71b8e89d",
   "metadata": {},
   "outputs": [
    {
     "name": "stdout",
     "output_type": "stream",
     "text": [
      "0.9545050622558837 0.9376031444701913 0.638426274325022 2.8434860714298154\n"
     ]
    }
   ],
   "source": [
    "print(chi2dof, chi2dofR, meddev, maxdev)"
   ]
  },
  {
   "cell_type": "code",
   "execution_count": 87,
   "id": "98ac9035",
   "metadata": {},
   "outputs": [],
   "source": [
    "# now add 100 outliers with 10 times larger errors\n",
    "xBad = norm(model, 10*error).rvs(100)\n",
    "xAll = np.concatenate([x,xBad])\n",
    "mAll = 0*xAll + model\n",
    "# note that all points, including outliers, have the same (smaller) uncertainty\n",
    "# for this reason, we expect chi2dof to be larger than 1, but chi2R to stay ~1 \n",
    "sigAll = 0*xAll + error"
   ]
  },
  {
   "cell_type": "code",
   "execution_count": 88,
   "id": "c02f3b47",
   "metadata": {},
   "outputs": [],
   "source": [
    "chi2dof, chi2dofR, meddev, maxdev = getChi2(xAll, sigAll, mAll, Nparam)"
   ]
  },
  {
   "cell_type": "code",
   "execution_count": 89,
   "id": "9bf22a62",
   "metadata": {},
   "outputs": [
    {
     "name": "stdout",
     "output_type": "stream",
     "text": [
      "3.090250182896888 1.0341662342066733 0.703316286610676 26.05435286740126\n"
     ]
    }
   ],
   "source": [
    "print(chi2dof, chi2dofR, meddev, maxdev)"
   ]
  },
  {
   "cell_type": "code",
   "execution_count": 90,
   "id": "d0b7e3c0",
   "metadata": {},
   "outputs": [],
   "source": [
    "# as expected, 10% of outliers significantly increased chi2dof"
   ]
  },
  {
   "cell_type": "code",
   "execution_count": null,
   "id": "5baf165e",
   "metadata": {},
   "outputs": [],
   "source": []
  }
 ],
 "metadata": {
  "kernelspec": {
   "display_name": "Python 3 (ipykernel)",
   "language": "python",
   "name": "python3"
  },
  "language_info": {
   "codemirror_mode": {
    "name": "ipython",
    "version": 3
   },
   "file_extension": ".py",
   "mimetype": "text/x-python",
   "name": "python",
   "nbconvert_exporter": "python",
   "pygments_lexer": "ipython3",
   "version": "3.9.9"
  }
 },
 "nbformat": 4,
 "nbformat_minor": 5
}
